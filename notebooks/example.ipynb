{
 "cells": [
  {
   "cell_type": "markdown",
   "metadata": {},
   "source": [
    "# So Long, and Thanks for All the Fish"
   ]
  },
  {
   "cell_type": "markdown",
   "metadata": {},
   "source": [
    "> So long and thanks for all the fish. \n",
    "> So sad that it should come to this."
   ]
  },
  {
   "cell_type": "markdown",
   "metadata": {},
   "source": [
    "## Define"
   ]
  },
  {
   "cell_type": "code",
   "execution_count": null,
   "metadata": {},
   "outputs": [],
   "source": [
    "import random\n",
    "\n",
    "def thank_fish(fish, times):\n",
    "    thank_fish_count = {\n",
    "        k: 0 for k in fish\n",
    "    }\n",
    "    for _ in range(times):\n",
    "        fish_name = random.choice(fish)\n",
    "        thank_fish_count[fish_name] += 1\n",
    "\n",
    "    return thank_fish_count"
   ]
  },
  {
   "cell_type": "code",
   "execution_count": null,
   "metadata": {},
   "outputs": [],
   "source": [
    "fish = [\"Salmon\", \"Tuna\", \"Trout\", \"Bass\", \"Catfish\"]"
   ]
  },
  {
   "cell_type": "markdown",
   "metadata": {},
   "source": [
    "## Run"
   ]
  },
  {
   "cell_type": "code",
   "execution_count": null,
   "metadata": {},
   "outputs": [],
   "source": [
    "thank_fish(fish, 1000)"
   ]
  },
  {
   "cell_type": "code",
   "execution_count": null,
   "metadata": {},
   "outputs": [],
   "source": [
    "import matplotlib.pyplot as plt\n",
    "\n",
    "\n",
    "def plot_thank_fish_result(fish, time_num):\n",
    "    result = thank_fish(fish, int(time_num))\n",
    "    plt.bar(result.keys(), result.values())\n",
    "    plt.show()"
   ]
  },
  {
   "cell_type": "code",
   "execution_count": null,
   "metadata": {},
   "outputs": [],
   "source": [
    "import ipywidgets as widgets\n",
    "\n",
    "\n",
    "num_thanks = widgets.FloatLogSlider(\n",
    "    value=1000,\n",
    "    base=2,\n",
    "    min=0, # max exponent of base\n",
    "    max=16, # min exponent of base\n",
    "    step=0.5, # exponent step\n",
    "    description='Number of Thanks:',\n",
    ")\n",
    "\n",
    "widgets.interact(plot_thank_fish_result, fish=widgets.fixed(fish), time_num=num_thanks)"
   ]
  }
 ],
 "metadata": {
  "kernelspec": {
   "display_name": "basic",
   "language": "python",
   "name": "python3"
  },
  "language_info": {
   "codemirror_mode": {
    "name": "ipython",
    "version": 3
   },
   "file_extension": ".py",
   "mimetype": "text/x-python",
   "name": "python",
   "nbconvert_exporter": "python",
   "pygments_lexer": "ipython3",
   "version": "3.10.12"
  },
  "orig_nbformat": 4
 },
 "nbformat": 4,
 "nbformat_minor": 2
}
